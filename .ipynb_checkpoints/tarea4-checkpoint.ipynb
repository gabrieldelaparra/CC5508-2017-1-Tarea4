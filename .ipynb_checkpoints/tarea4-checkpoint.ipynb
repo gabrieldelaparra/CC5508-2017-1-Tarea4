{
 "cells": [
  {
   "cell_type": "markdown",
   "metadata": {},
   "source": [
    "# Segmentación basada en grafos\n",
    "Universidad de Chile  \n",
    "Departamento de Ciencias de la Computación  \n",
    "CC5508 - Procesamiento y Análisis de Imágenes  \n",
    "Gabriel De La Parra  \n",
    "\n",
    "## Introducción\n",
    "Esta tarea se basa en la implementación del paper *[Efficient Graph-Based Image Segmentation](https://cs.brown.edu/~pff/papers/seg-ijcv.pdf)* de *[Pedro F. Felzenzswalb](https://cs.brown.edu/~pff/)*. \n",
    "\n",
    "##### Imágen como grafo\n",
    "En la investigación se expone una técnica de *[segmentación de imagenes](https://en.wikipedia.org/wiki/Image_segmentation)* utilizando un *[grafo no dirigido](https://es.wikipedia.org/wiki/Grafo#Grafo_no_dirigido)* para representar la imagen de entrada:\n",
    "* Los nodos del grafo representan los pixeles de la imagen. \n",
    "* Los arcos del grafo representan la relación entre pixeles vecinos.\n",
    "* A cada arco se le asocia un peso. De lo anterior, cada peso determina la relación entre pixeles vecinos.\n",
    "\n",
    "[![Imagen como Grafo 1](ImageGraph1.PNG)](ImageGraph1.PNG)\n",
    "<center>Representación de los pixeles como nodos y arcos.</center>\n",
    "\n",
    "[![Imagen como Grafo 2](ImageGraph2.PNG)](ImageGraph2.PNG)\n",
    "<center>Representación de los pesos de los arcos.</center>\n",
    "\n",
    "##### Segmentación\n",
    "La segmentación consiste en generar conjuntos de nodos (o componentes conexas).\n",
    "\n",
    "Para lo anterior se definen dos métricas:\n",
    "* *Diferencia interna de una componente conexa*.\n",
    "* *Diferencia entre dos componentes conexas*. \n",
    "\n",
    "Lo anterior pretende agrupar pixeles en regiones que sean similares entre sí y diferentes a otras regiones.\n",
    "\n",
    "##### Proceso de la segmentación\n",
    "Para la segmentación se procede de la siguiente manera:\n",
    "* Con las métricas anteriores, se itera sobre las fronteras de cada componente.\n",
    "* Sobre dicha frontera se busca evaluar si (los pesos de) la *diferencia entre las componentes* es suficientemente mayor a (los pesos de) la *diferencia interna* (de cada componente).\n",
    "* A partir de esta evaluación se puede generar una única región o mantener las dos regiones.\n",
    "\n",
    "Para mejorar este proceso se define un umbral sobre la evaluación de las diferencias.\n",
    "\n",
    "Lo anterior se realiza para todos los arcos del grafo.\n",
    "\n",
    "##### Métricas para la segmentación\n",
    "La *diferencia entre dos componentes* se define como el peso mínimo a lo largo de (los arcos de) la frontera entre los dos grupos de nodos.\n",
    "\n",
    "Por su parte, *la diferencia interna*, se define como el peso máximo en el MST de la componente.\n",
    "\n",
    "Un MST (*[minumum spanning tree](https://en.wikipedia.org/wiki/Minimum_spanning_tree)* o *[árbol cobertor mínimo](https://es.wikipedia.org/wiki/%C3%81rbol_recubridor_m%C3%ADnimo)*) es una estructura de datos que permite ordenar todos los nodos de un grafo.\n",
    "\n",
    "[![Minimum spanning tree](https://upload.wikimedia.org/wikipedia/commons/thumb/d/d2/Minimum_spanning_tree.svg/300px-Minimum_spanning_tree.svg.png)](https://upload.wikimedia.org/wikipedia/commons/thumb/d/d2/Minimum_spanning_tree.svg/300px-Minimum_spanning_tree.svg.png)\n",
    "\n",
    "> Un ejemplo de árbol recubridor mínimo. Cada punto representa un vértice, cada arista está etiquetada con su peso, que en este caso equivale a su longitud. - Wikipedia\n",
    "\n",
    "Una forma de construir un MST (Hint entregado en el enunciado) es por el método de [Kruskal](https://es.wikipedia.org/wiki/Algoritmo_de_Kruskal). Para esto se requiere ocupar un algoritmo eficiente para determinar:\n",
    "\n",
    "1. Los componentes que conectan una arista (Find).\n",
    "2. Mezclar o unir dos componentes (Union). \n",
    "\n",
    "#### Union-Find\n",
    "[Union-Find](https://en.wikipedia.org/wiki/Disjoint-set_data_structure) es un algoritmo para estructuras de datos disjuntas. *Una estructura de datos para conjuntos disjuntos, es una estructura de datos que mantiene un conjunto de elementos particionados en un número de conjuntos disjuntos (no se solapan los conjuntos).* \n",
    "\n",
    "*Union*: Une dos subconjuntos en uno solo.\n",
    "\n",
    "*Find*: Determina a cual subconjunto pertenece un elemento. Esta operación puede usarse para verificar si dos elementos están en el mismo conjunto.\n",
    "\n",
    "La [complejidad del algoritmo](https://en.wikipedia.org/wiki/Disjoint-set_data_structure#Time_Complexity) se diferencia por 4 formas de implementación:\n",
    "* *Union* con *Union-by-rank*\n",
    "* *Find* con *path compression*\n",
    "* Ambas\n",
    "* Ninguna\n",
    "\n",
    "*Union-by-rank*, consiste en añadir el árbol más pequeño a la raíz del árbol más grande. Como la profundidad del árbol afecta el tiempo de ejecución del algoritmo, el árbol con menor profundidad es añadido a la raíz del árbol con mayor profundidad, el cual aumenta su profundidad solo si sus profundidades son iguales.\n",
    "\n",
    "*Find* con *path compression*, es una forma recursiva de aplanar la estructura del árbol. Cada nodo visitado en el camino hacia la raíz se añade directamente a la raíz ya que todos estos nodos la comparten. El árbol resultante es más aplanado, acelerando operaciones futuras no solo en estos elementos sino también en aquellos que referencian a estos.\n",
    "\n",
    "#### Indicaciones de la tarea\n",
    "Para esta tarea se solicita implementar el algoritmo de segmentación de Felzenswalb para imagenes a colores (3 canales). Una restricción dada, es que no se permite convertir la imagen a escala de grises. Adicionalmente se solicita implementar esto para distintos espacios de color: RGB y CIE L\\*a\\*b. Finalmente se solicita ejecutar esto para 10 imágenes distintas y comparar los resultados.\n",
    "\n",
    "Dado lo anterior, en el Paper se indica como trabajar en este tipo de casos:\n",
    "* Construir el grafo con conectividad 8.\n",
    "* Utilizar una función de pesos basada en la intensidad absoluta entre pixeles:\n",
    "\n",
    "<center>$w(v_i, v_j) = |I(p_i)-I(p_j)|$</center>\n",
    "\n",
    "donde:\n",
    "\n",
    "$w(v_i, v_j)$ es la función de pesos sobre los nodos $v_i$ y $v_j$\n",
    "\n",
    "$I(p_i)$ y $I(p_j)$ es la intensidad de los pixeles $p_i$ y $p_j$\n",
    "\n",
    "Adicionalmente:\n",
    "\n",
    "* Se aplica un filtro Gaussiano, con $\\sigma$ recomendado de $0.8$, que no produce cambios perceptibles en la imagen.\n",
    "* Para imágenes en color, se ejecuta el algoritmo 3 veces, una para cada componente del espacio de color y luego se intersectan los 3 conjuntos. Para esto se colocan 2 pixeles vecinos en la misma componente si aparecen en las 3 componentes de color. Alternativamente, se propone ejecutar el algoritmo una sola vez, tomando los pesos como la distancia entre los pixeles en el espacio de color.\n",
    "\n",
    "La propuesta alternativa del autor es mucho más sencilla para trabajar en distintos espacios de color. Se trabajará con este enfoque.\n",
    "\n",
    "## Desarrollo\n",
    "\n",
    "A continuación se entrega el código utilizado en el desarrollo de esta tarea."
   ]
  },
  {
   "cell_type": "markdown",
   "metadata": {},
   "source": [
    "#### Librerías de Python"
   ]
  },
  {
   "cell_type": "code",
   "execution_count": 1,
   "metadata": {
    "collapsed": true
   },
   "outputs": [],
   "source": [
    "%matplotlib inline\n",
    "\n",
    "import os\n",
    "from scipy import ndimage as ndi\n",
    "from skimage import io, morphology, filters, exposure, measure, segmentation, color, img_as_float\n",
    "import matplotlib.pylab as plt\n",
    "import matplotlib\n",
    "import numpy as np\n",
    "from ipywidgets import interact, widgets, HBox\n",
    "from IPython import display\n",
    "import math\n",
    "from random import random, randint\n",
    "\n",
    "#Ajustar el tamaño de las imágenes:\n",
    "matplotlib.rcParams['figure.figsize'] = (14,12)"
   ]
  },
  {
   "cell_type": "markdown",
   "metadata": {},
   "source": [
    "#### Python Widgets"
   ]
  },
  {
   "cell_type": "code",
   "execution_count": 2,
   "metadata": {},
   "outputs": [],
   "source": [
    "selectImageWidget = widgets.ToggleButtons(\n",
    "    options=[f for f in os.listdir(os.getcwd()) if f.endswith('_05.jpg')],\n",
    "    description='Image:',\n",
    "    button_style='info', \n",
    ")\n",
    "\n",
    "colorSpaceWidget = widgets.ToggleButtons(\n",
    "    options=['RGB', 'CIE LAB', 'CIE LUV', 'HSV', 'RGB CIE', 'XYZ'],\n",
    "    description='Color Space:',\n",
    "    button_style='success',\n",
    ")\n",
    "\n",
    "sigmaSliderWidget = widgets.FloatSlider(\n",
    "    value=1.5,\n",
    "    min=0,\n",
    "    max=3,\n",
    "    step=0.1,\n",
    "    description='Sigma:',\n",
    "    continuous_update=False,\n",
    "    readout=True,\n",
    "    readout_format='.1f',\n",
    ")\n",
    "\n",
    "kSliderWidget = widgets.FloatSlider(\n",
    "    value=0.7,\n",
    "    min=0,\n",
    "    max=1,\n",
    "    step=0.1,\n",
    "    description='k:',\n",
    "    continuous_update=False,\n",
    "    readout=True,\n",
    "    readout_format='.1f',\n",
    ")\n",
    "\n",
    "minSizeSliderWidget = widgets.IntSlider(\n",
    "    value=400,\n",
    "    min=1,\n",
    "    max=500,\n",
    "    step=1,\n",
    "    description='Min Size:',\n",
    "    continuous_update=False,\n",
    "    readout=True,\n",
    ")"
   ]
  },
  {
   "cell_type": "markdown",
   "metadata": {},
   "source": [
    "#### Pixel Node"
   ]
  },
  {
   "cell_type": "code",
   "execution_count": 3,
   "metadata": {},
   "outputs": [],
   "source": [
    "class PixelNode:\n",
    "    def __init__(self, image, col, row):\n",
    "        self.col = col\n",
    "        self.row = row\n",
    "        self.r = float(image[row][col][0])\n",
    "        self.g = float(image[row][col][1])\n",
    "        self.b = float(image[row][col][2])\n",
    "        self.cols = image.shape[1]\n",
    "        self.index = col + (row * self.cols)\n",
    "\n",
    "    def __str__(self):\n",
    "        #return \"px: \" + str(self.col) + \" py: \" + str(self.row) + \" r: \" + str(self.r) + \" g: \"+ str(self.g) + \" b: \" + str(self.b)\n",
    "        return \"index: \" + str(self.col) + \"+(\" + str(self.row)+\"x\" + str(self.cols) + \"):\" + str(self.index)"
   ]
  },
  {
   "cell_type": "markdown",
   "metadata": {},
   "source": [
    "#### Pixel Edge"
   ]
  },
  {
   "cell_type": "code",
   "execution_count": 4,
   "metadata": {
    "collapsed": true
   },
   "outputs": [],
   "source": [
    "class PixelEdge:\n",
    "    def __init__(self, pixelNode1, pixelNode2):\n",
    "        self.node1 = pixelNode1\n",
    "        self.node2 = pixelNode2\n",
    "        self.weight = self.pixelDistance(pixelNode1, pixelNode2)\n",
    "\n",
    "    @classmethod\n",
    "    def pixelDistance(self, pixelNode1, pixelNode2):\n",
    "        return math.sqrt(math.pow(pixelNode1.r - pixelNode2.r, 2)\n",
    "                         + math.pow(pixelNode1.g - pixelNode2.g, 2)\n",
    "                         + math.pow(pixelNode1.b - pixelNode2.b, 2))\n",
    "\n",
    "    def __str__(self):\n",
    "        return \"Node1: \" + str(self.node1) + \" Node2: \" + str(self.node2) + \" Weight: \" + str(self.weight)"
   ]
  },
  {
   "cell_type": "markdown",
   "metadata": {},
   "source": [
    "#### Pixel Graph"
   ]
  },
  {
   "cell_type": "code",
   "execution_count": 5,
   "metadata": {
    "collapsed": true
   },
   "outputs": [],
   "source": [
    "class PixelGraph:\n",
    "    def __init__(self, image):\n",
    "        self.nodes = []\n",
    "        self.edges = []\n",
    "        self.nodes, self.edges = self.getGraph(image)\n",
    "    \n",
    "    @classmethod\n",
    "    def getGraph(self, image):\n",
    "        nodes = []\n",
    "        edges = []\n",
    "        rows, cols, _ = image.shape\n",
    "        \n",
    "        for row in range(rows):\n",
    "            for col in range(cols):\n",
    "                node = PixelNode(image, col, row)\n",
    "                nodes.append(node)\n",
    "                node2 = None\n",
    "                \n",
    "                if col + 1 < cols:\n",
    "                    # Vecino derecha:\n",
    "                    node2 = PixelNode(image, col + 1, row)\n",
    "                    edges.append(PixelEdge(node, node2))\n",
    "\n",
    "                if row + 1 < rows:\n",
    "                    # Vecino abajo:\n",
    "                    node2 = PixelNode(image, col, row + 1)\n",
    "                    edges.append(PixelEdge(node, node2))\n",
    "\n",
    "                if col + 1 < cols and row + 1 < rows:\n",
    "                    # Vecino Diagonal abajo derecha:\n",
    "                    node2 = PixelNode(image, col + 1, row + 1)\n",
    "                    edges.append(PixelEdge(node, node2))\n",
    "\n",
    "                if col - 1 >= 0 and row + 1 < rows:\n",
    "                    # Vecino Diagonal abajo izquierda\n",
    "                    node2 = PixelNode(image, col - 1, row + 1)\n",
    "                    edges.append(PixelEdge(node, node2))\n",
    "                \n",
    "        return nodes, edges"
   ]
  },
  {
   "cell_type": "markdown",
   "metadata": {},
   "source": [
    "#### Disjoint Set Node"
   ]
  },
  {
   "cell_type": "code",
   "execution_count": 6,
   "metadata": {
    "collapsed": true
   },
   "outputs": [],
   "source": [
    "class SetNode:\n",
    "    def __init__(self, index, k):\n",
    "        self.parent = index\n",
    "        self.rank = 0\n",
    "        self.size = 1\n",
    "        self.threshold = self.getThreshold(k, self.size)\n",
    "    \n",
    "    @classmethod\n",
    "    def getThreshold(self, k, size):\n",
    "        return k / size"
   ]
  },
  {
   "cell_type": "markdown",
   "metadata": {},
   "source": [
    "#### Disjoint Set\n",
    "With Threshold, Minimum Size and Paint Methods"
   ]
  },
  {
   "cell_type": "code",
   "execution_count": 7,
   "metadata": {},
   "outputs": [],
   "source": [
    "class DisjointSet:\n",
    "    def __init__(self, count, thresholdConstant, minSize, imageShape):\n",
    "        self.nodes = [SetNode(i, thresholdConstant) for i in range(count)]\n",
    "        self.thresholdConstant = thresholdConstant\n",
    "        self.minSize = minSize\n",
    "        self.imageShape = imageShape\n",
    "\n",
    "    def Find(self, node):\n",
    "        if(self.nodes[node].parent != node):\n",
    "            self.nodes[node].parent = self.Find(self.nodes[node].parent)\n",
    "        return self.nodes[node].parent\n",
    "\n",
    "    def ThresholdUnion(self, edge):\n",
    "        nodeRoot1 = self.Find(edge.node1.index)\n",
    "        nodeRoot2 = self.Find(edge.node2.index)\n",
    "        weightThreshold = edge.weight \n",
    "        \n",
    "        if weightThreshold <= self.nodes[nodeRoot1].threshold and weightThreshold <= self.nodes[nodeRoot2].threshold:\n",
    "            self.Union(nodeRoot1, nodeRoot2)\n",
    "            nodeRoot1 = self.Find(nodeRoot1)\n",
    "            self.nodes[nodeRoot1].threshold = weightThreshold + (self.thresholdConstant / self.nodes[nodeRoot1].size)\n",
    "        \n",
    "    def MinSizeUnion(self, edge):\n",
    "        nodeRoot1 = self.Find(edge.node1.index)        \n",
    "        nodeRoot2 = self.Find(edge.node2.index)\n",
    "        minSize = self.minSize\n",
    "\n",
    "        if self.nodes[nodeRoot1].size < minSize or self.nodes[nodeRoot2].size < minSize:\n",
    "            self.Union(nodeRoot1, nodeRoot2)        \n",
    "        \n",
    "    def Union(self, nodeRoot1, nodeRoot2):\n",
    "        if(nodeRoot1 == nodeRoot2):\n",
    "            return\n",
    "        \n",
    "        if self.nodes[nodeRoot1].rank > self.nodes[nodeRoot2].rank:\n",
    "            self.nodes[nodeRoot2].parent = nodeRoot1\n",
    "            self.nodes[nodeRoot1].size += self.nodes[nodeRoot2].size\n",
    "            \n",
    "        elif self.nodes[nodeRoot1].rank < self.nodes[nodeRoot2].rank:\n",
    "            self.nodes[nodeRoot1].parent = nodeRoot2\n",
    "            self.nodes[nodeRoot2].size += self.nodes[nodeRoot1].size\n",
    "            \n",
    "        else:\n",
    "            self.nodes[nodeRoot1].parent == nodeRoot2\n",
    "            self.nodes[nodeRoot2].size += self.nodes[nodeRoot1].size\n",
    "            self.nodes[nodeRoot2].rank += 1\n",
    "    \n",
    "    def paint(self):\n",
    "        rows = self.imageShape[0]\n",
    "        cols = self.imageShape[1]\n",
    "        chns = self.imageShape[2]\n",
    "        \n",
    "        paintedSet = np.zeros((rows, cols, 3))\n",
    "        randomPalette = np.array([[randint(0, 255) for c in range(rows*cols)] for p in range(chns)])\n",
    "        \n",
    "        for row in range(rows):\n",
    "            for col in range(cols):\n",
    "                component = self.Find(col + (row * cols))\n",
    "                for channel in range(chns):\n",
    "                    paintedSet[row][col][channel] = randomPalette[channel][component]\n",
    "        \n",
    "        return paintedSet\n",
    "    \n",
    "    def printThis(self):\n",
    "        for i in range(len(self.nodes)):\n",
    "            print(\"i:\",i,\"Parent:\",self.nodes[i].parent,\"Rank:\",self.nodes[i].rank,\"Size:\",self.nodes[i].size,\"Threshold:\",self.nodes[i].threshold)"
   ]
  },
  {
   "cell_type": "markdown",
   "metadata": {},
   "source": [
    "#### Main Method"
   ]
  },
  {
   "cell_type": "code",
   "execution_count": 8,
   "metadata": {},
   "outputs": [
    {
     "name": "stderr",
     "output_type": "stream",
     "text": [
      "Widget Javascript not detected.  It may not be installed or enabled properly.\n"
     ]
    },
    {
     "data": {
      "application/vnd.jupyter.widget-view+json": {
       "model_id": "67b388877f474926aefba3ab98422bbb"
      }
     },
     "metadata": {},
     "output_type": "display_data"
    },
    {
     "name": "stdout",
     "output_type": "stream",
     "text": [
      "Interactive Graph Segmentation\n"
     ]
    }
   ],
   "source": [
    "def loadImage(imageFile, colorSpace, sigma, k, minimumSize):\n",
    "    image = exposure.rescale_intensity(img_as_float(io.imread(imageFile)))\n",
    "    if colorSpace==\"CIE LAB\":\n",
    "        image = exposure.rescale_intensity(color.rgb2lab(image))\n",
    "    elif colorSpace==\"CIE LUV\":\n",
    "        image = exposure.rescale_intensity(color.rgb2luv(image))\n",
    "    elif colorSpace==\"HSV\":\n",
    "        image = exposure.rescale_intensity(color.rgb2hsv(image))\n",
    "    elif colorSpace==\"RGB CIE\":\n",
    "        image = exposure.rescale_intensity(color.rgb2rgbcie(image))\n",
    "    elif colorSpace==\"XYZ\":\n",
    "        image = exposure.rescale_intensity(color.rgb2xyz(image))\n",
    "    \n",
    "    image = filters.gaussian(image, sigma, multichannel=True)\n",
    "    \n",
    "    graph = PixelGraph(image)\n",
    "\n",
    "    disjointSet = DisjointSet(len(graph.nodes), k, minimumSize, image.shape)\n",
    "\n",
    "    edges = sorted(graph.edges, key=lambda e: e.weight)\n",
    "\n",
    "    for i in range(len(edges)):\n",
    "        disjointSet.ThresholdUnion(edges[i])    \n",
    "\n",
    "    for i in range(len(edges)):\n",
    "        disjointSet.MinSizeUnion(edges[i])\n",
    "    \n",
    "    fig = plt.figure()\n",
    "    f1 = fig.add_subplot(121)\n",
    "    f2 = fig.add_subplot(122)\n",
    "    \n",
    "    f1.imshow(image, cmap=\"gray\")\n",
    "    f2.imshow(disjointSet.paint(), cmap=\"gray\")\n",
    "    plt.show()\n",
    "\n",
    "interact(loadImage, imageFile = selectImageWidget, colorSpace = colorSpaceWidget, sigma = sigmaSliderWidget, k= kSliderWidget, minimumSize=minSizeSliderWidget)\n",
    "\n",
    "print(\"Interactive Graph Segmentation\")"
   ]
  },
  {
   "cell_type": "markdown",
   "metadata": {},
   "source": [
    "## Resultados\n",
    "\n",
    "## Conclusiones\n",
    "\n",
    "#### Aplicaciones de la segmentación (Conc)\n",
    "La investigación parte con la necesidad de tener algoritmos eficientes para segmentación de imágenes. Algunas de las aplicaciones que se mencionan son los problemas de dificultad media como reconocimiento estéreo, en donde son necesarias definir  *region of support* para las operaciones de correspondencia. Dichas regiones pueden ser encontradas con algoritmos de segmentación. Los problemas de alto nivel también pueden beneficiarse con algoritmos que sirvan para diferenciar el fondo de los objectos y el reconocimiento de las distintas partes.\n",
    "\n",
    "\n",
    "#### Características deseadas de la segmentación (Conc)\n",
    "Según el autor, un algoritmo de segmentación debe ser capaz de: \n",
    "1. *Capturar regiones o grupos de importancia perceptual que reflejan aspectos globales de la imagen*. Sobre esto, dos problemas principales son poder caracterizar aquello que es importante de la imagen y especificar que es lo que hace una determinada técnica de segmentación.\n",
    "2. *Ser eficiente, funcionar en tiempo linear sobre el número de pixeles de una imágen*. Los métodos de segmentación deben funcionar a la par con los métodos de detección de borde u otros algoritmos de bajo nivel.\n",
    "\n",
    "\n",
    "#### Métodos existentes (conc)\n",
    "En la época en que se escribió esta investigación, se analizaron otras técnicas existentes. El documento explica como los procesos basados en vectores propios son muy lentos para aplicaciones prácticas. Adicionalmente se menciona que otros métodos, si eficientes, fallan en capturar las propiedades globales (no-locales) de la imágen que son perceptiblemente importantes."
   ]
  }
 ],
 "metadata": {
  "kernelspec": {
   "display_name": "Python [default]",
   "language": "python",
   "name": "python3"
  },
  "language_info": {
   "codemirror_mode": {
    "name": "ipython",
    "version": 3
   },
   "file_extension": ".py",
   "mimetype": "text/x-python",
   "name": "python",
   "nbconvert_exporter": "python",
   "pygments_lexer": "ipython3",
   "version": "3.5.2"
  }
 },
 "nbformat": 4,
 "nbformat_minor": 2
}
