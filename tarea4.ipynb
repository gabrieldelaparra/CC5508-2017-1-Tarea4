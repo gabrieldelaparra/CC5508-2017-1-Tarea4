{
 "cells": [
  {
   "cell_type": "markdown",
   "metadata": {},
   "source": [
    "# Segmentación basada en grafos\n",
    "Universidad de Chile  \n",
    "Departamento de Ciencias de la Computación  \n",
    "CC5508 - Procesamiento y Análisis de Imágenes  \n",
    "Gabriel De La Parra  \n",
    "\n",
    "## Introducción\n",
    "Esta tarea se basa en la implementación del paper *[Efficient Graph-Based Image Segmentation](https://cs.brown.edu/~pff/papers/seg-ijcv.pdf)* de *[Pedro F. Felzenzswalb](https://cs.brown.edu/~pff/)*. \n",
    "\n",
    "##### Imágen como grafo\n",
    "En la investigación se expone una técnica de *[segmentación de imagenes](https://en.wikipedia.org/wiki/Image_segmentation)* utilizando un *[grafo no dirigido](https://es.wikipedia.org/wiki/Grafo#Grafo_no_dirigido)* para representar la imagen de entrada:\n",
    "* Los nodos del grafo representan los pixeles de la imagen. \n",
    "* Los arcos del grafo representan la relación entre pixeles vecinos.\n",
    "* A cada arco se le asocia un peso. De lo anterior, cada peso determina la relación entre pixeles vecinos.\n",
    "\n",
    "##### Segmentación\n",
    "La segmentación consiste en generar conjuntos de nodos (o componentes conexas).\n",
    "\n",
    "Para lo anterior se definen dos métricas:\n",
    "* *Diferencia interna de una componente conexa*.\n",
    "* *Diferencia entre dos componentes conexas*. \n",
    "\n",
    "Lo anterior pretende agrupar pixeles en regiones que sean similares entre sí y diferentes a otras regiones.\n",
    "\n",
    "##### Proceso de la segmentación\n",
    "Para la segmentación se procede de la siguiente manera:\n",
    "* Con las métricas anteriores, se itera sobre las fronteras de cada componente.\n",
    "* Sobre dicha frontera se busca evaluar si (los pesos de) la *diferencia entre las componentes* es suficientemente mayor a (los pesos de) la *diferencia interna* (de cada componente).\n",
    "* A partir de esta evaluación se puede generar una única región o mantener las dos regiones.\n",
    "\n",
    "Para mejorar este proceso se define un umbral sobre la evaluación de las diferencias.\n",
    "\n",
    "Lo anterior se realiza para todos los arcos del grafo.\n",
    "\n",
    "##### Métricas para la segmentación\n",
    "La *diferencia entre dos componentes* se define como el peso mínimo a lo largo de (los arcos de) la frontera entre los dos grupos de nodos.\n",
    "\n",
    "Por su parte, *la diferencia interna*, se define como el peso máximo en el MST de la componente.\n",
    "\n",
    "Un MST (*[minumum spanning tree](https://en.wikipedia.org/wiki/Minimum_spanning_tree)* o *[árbol cobertor mínimo](https://es.wikipedia.org/wiki/%C3%81rbol_recubridor_m%C3%ADnimo)*) es una estructura de datos que permite ordenar todos los nodos de un grafo.\n",
    "\n",
    "[![Minimum spanning tree](https://upload.wikimedia.org/wikipedia/commons/thumb/d/d2/Minimum_spanning_tree.svg/300px-Minimum_spanning_tree.svg.png)](https://upload.wikimedia.org/wikipedia/commons/thumb/d/d2/Minimum_spanning_tree.svg/300px-Minimum_spanning_tree.svg.png)\n",
    "\n",
    "> Un ejemplo de árbol recubridor mínimo. Cada punto representa un vértice, cada arista está etiquetada con su peso, que en este caso equivale a su longitud. - Wikipedia\n",
    "\n",
    "Una forma de construir un MST (Hint entregado en el enunciado) es por el método de [Kruskal](https://es.wikipedia.org/wiki/Algoritmo_de_Kruskal). Para esto se requiere ocupar un algoritmo eficiente para determinar:\n",
    "\n",
    "1. Los componentes que conectan una arista (Find).\n",
    "2. Mezclar o unir dos componentes (Union). \n",
    "\n",
    "#### Union-Find\n",
    "[Union-Find](https://en.wikipedia.org/wiki/Disjoint-set_data_structure) es un algoritmo para estructuras de datos disjuntas. *Una estructura de datos para conjuntos disjuntos, es una estructura de datos que mantiene un conjunto de elementos particionados en un número de conjuntos disjuntos (no se solapan los conjuntos).* \n",
    "\n",
    "*Union*: Une dos subconjuntos en uno solo.\n",
    "\n",
    "*Find*: Determina a cual subconjunto pertenece un elemento. Esta operación puede usarse para verificar si dos elementos están en el mismo conjunto.\n",
    "\n",
    "La [complejidad del algoritmo](https://en.wikipedia.org/wiki/Disjoint-set_data_structure#Time_Complexity) se diferencia por 4 formas de implementación:\n",
    "* *Union* con *Union-by-rank*\n",
    "* *Find* con *path compression*\n",
    "* Ambas\n",
    "* Ninguna\n",
    "\n",
    "*Union-by-rank*, consiste en añadir el árbol más pequeño a la raíz del árbol más grande. Como la profundidad del árbol afecta el tiempo de ejecución del algoritmo, el árbol con menor profundidad es añadido a la raíz del árbol con mayor profundidad, el cual aumenta su profundidad solo si sus profundidades son iguales.\n",
    "\n",
    "*Find* con *path compression*, es una forma recursiva de aplanar la estructura del árbol. Cada nodo visitado en el camino hacia la raíz se añade directamente a la raíz ya que todos estos nodos la comparten. El árbol resultante es más aplanado, acelerando operaciones futuras no solo en estos elementos sino también en aquellos que referencian a estos.\n",
    "\n",
    "#### Indicaciones de la tarea\n",
    "Para esta tarea se solicita implementar el algoritmo de segmentación de Felzenswalb para imagenes a colores (3 canales). Una restricción dada, es que no se permite convertir la imagen a escala de grises. Adicionalmente se solicita implementar esto para distintos espacios de color: RGB y CIE L\\*a\\*b. Finalmente se solicita ejecutar esto para 10 imágenes distintas y comparar los resultados.\n",
    "\n",
    "Dado lo anterior, en el Paper se indica como trabajar en este tipo de casos:\n",
    "* Construir el grafo con conectividad 8.\n",
    "* Utilizar una función de pesos basada en la intensidad absoluta entre pixeles:\n",
    "\n",
    "<center>$w(v_i, v_j) = |I(p_i)-I(p_j)|$</center>\n",
    "\n",
    "donde:\n",
    "\n",
    "$w(v_i, v_j)$ es la función de pesos sobre los nodos $v_i$ y $v_j$\n",
    "\n",
    "$I(p_i)$ y $I(p_j)$ es la intensidad de los pixeles $p_i$ y $p_j$\n",
    "\n",
    "Adicionalmente:\n",
    "\n",
    "* Se aplica un filtro Gaussiano, con $\\sigma$ recomendado de $0.8$, que no produce cambios perceptibles en la imagen.\n",
    "* Para imágenes en color, se ejecuta el algoritmo 3 veces, una para cada componente del espacio de color y luego se intersectan los 3 conjuntos. Para esto se colocan 2 pixeles vecinos en la misma componente si aparecen en las 3 componentes de color. Alternativamente, se propone ejecutar el algoritmo una sola vez, tomando los pesos como la distancia entre los pixeles en el espacio de color."
   ]
  },
  {
   "cell_type": "code",
   "execution_count": 47,
   "metadata": {},
   "outputs": [
    {
     "data": {
      "application/vnd.jupyter.widget-view+json": {
       "model_id": "3010eda5cba34eaaae48f9b4bd18ded2"
      }
     },
     "metadata": {},
     "output_type": "display_data"
    },
    {
     "data": {
      "text/plain": [
       "<function __main__.loa>"
      ]
     },
     "execution_count": 47,
     "metadata": {},
     "output_type": "execute_result"
    }
   ],
   "source": [
    "%matplotlib inline\n",
    "\n",
    "import os\n",
    "from scipy import ndimage as ndi\n",
    "from skimage import io, morphology, filters, exposure, measure, segmentation\n",
    "import matplotlib.pylab as plt\n",
    "import matplotlib\n",
    "import numpy as np\n",
    "from ipywidgets import interact, widgets, HBox\n",
    "from IPython import display\n",
    "\n",
    "#Ajustar el tamaño de las imágenes:\n",
    "matplotlib.rcParams['figure.figsize'] = (14,12)\n",
    "\n",
    "selectedImage = widgets.ToggleButtons(\n",
    "    options=[f for f in os.listdir(os.getcwd()) if f.endswith('.jpg')],\n",
    "    description='Image:',\n",
    "    disabled=False,\n",
    "    button_style='info', # 'success', 'info', 'warning', 'danger' or ''\n",
    "    tooltip='Description',\n",
    ")\n",
    "def loa(image):\n",
    "    image = io.imread(image)\n",
    "    plt.imshow(image, cmap=\"gray\")\n",
    "    plt.show()\n",
    "\n",
    "interact(loa, image = selectedImage)\n"
   ]
  },
  {
   "cell_type": "code",
   "execution_count": 1,
   "metadata": {
    "collapsed": true
   },
   "outputs": [],
   "source": [
    "from skimage import io\n",
    "\n"
   ]
  },
  {
   "cell_type": "markdown",
   "metadata": {},
   "source": [
    "## Desarrollo\n",
    "\n",
    "##### Detalles del algoritmo\n",
    "Para la segmentación se propone el siguiente algoritmo:\n",
    "1. Ordenar los arcos por sus pesos, de menor a mayor.\n",
    "2. Definir una segmentación inicial, en la que cada primer nodo es una componente por si sola.\n",
    "3. Para cada arco:\n",
    "    * Construir una componente nueva a partir de la componente anterior:\n",
    "        * Si los dos nodos no pertenecen a la misma componente anterior y el peso entre ellos  es bajo, comparado con la diferencia entre las dos componentes, unir las componentes. Si no, continua.\n",
    "4. Repetir 3. para todos los arcos del grafo.\n"
   ]
  },
  {
   "cell_type": "markdown",
   "metadata": {},
   "source": [
    "#### Aplicaciones de la segmentación (Conc)\n",
    "La investigación parte con la necesidad de tener algoritmos eficientes para segmentación de imágenes. Algunas de las aplicaciones que se mencionan son los problemas de dificultad media como reconocimiento estéreo, en donde son necesarias definir  *region of support* para las operaciones de correspondencia. Dichas regiones pueden ser encontradas con algoritmos de segmentación. Los problemas de alto nivel también pueden beneficiarse con algoritmos que sirvan para diferenciar el fondo de los objectos y el reconocimiento de las distintas partes.\n",
    "\n",
    "\n",
    "#### Características deseadas de la segmentación (Conc)\n",
    "Según el autor, un algoritmo de segmentación debe ser capaz de: \n",
    "1. *Capturar regiones o grupos de importancia perceptual que reflejan aspectos globales de la imagen*. Sobre esto, dos problemas principales son poder caracterizar aquello que es importante de la imagen y especificar que es lo que hace una determinada técnica de segmentación.\n",
    "2. *Ser eficiente, funcionar en tiempo linear sobre el número de pixeles de una imágen*. Los métodos de segmentación deben funcionar a la par con los métodos de detección de borde u otros algoritmos de bajo nivel.\n",
    "\n",
    "\n",
    "#### Métodos existentes (conc)\n",
    "En la época en que se escribió esta investigación, se analizaron otras técnicas existentes. El documento explica como los procesos basados en vectores propios son muy lentos para aplicaciones prácticas. Adicionalmente se menciona que otros métodos, si eficientes, fallan en capturar las propiedades globales (no-locales) de la imágen que son perceptiblemente importantes."
   ]
  }
 ],
 "metadata": {
  "kernelspec": {
   "display_name": "Python [default]",
   "language": "python",
   "name": "python3"
  },
  "language_info": {
   "codemirror_mode": {
    "name": "ipython",
    "version": 3
   },
   "file_extension": ".py",
   "mimetype": "text/x-python",
   "name": "python",
   "nbconvert_exporter": "python",
   "pygments_lexer": "ipython3",
   "version": "3.5.2"
  }
 },
 "nbformat": 4,
 "nbformat_minor": 2
}
